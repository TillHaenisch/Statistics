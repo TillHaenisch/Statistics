{
 "cells": [
  {
   "cell_type": "markdown",
   "metadata": {},
   "source": [
    "# Clusteranalyse"
   ]
  },
  {
   "cell_type": "markdown",
   "metadata": {},
   "source": [
    "In diesem Abschnitt wird der K-means Algorithmus zur Clusteranalyse, ein Beispiel für unsupervised learning, behandelt.\n",
    "Als Beispiel dienen die Ergebnisse in den Mathematik- und Programmierklausuren des ersten Semsters."
   ]
  },
  {
   "cell_type": "code",
   "execution_count": 15,
   "metadata": {
    "collapsed": true
   },
   "outputs": [],
   "source": [
    "import pandas as pd\n",
    "%matplotlib inline\n",
    "import matplotlib \n",
    "import numpy as np\n",
    "import matplotlib.pyplot as plt"
   ]
  },
  {
   "cell_type": "code",
   "execution_count": 16,
   "metadata": {
    "collapsed": true
   },
   "outputs": [],
   "source": [
    "filepath = 'dhbw_noten.csv'"
   ]
  },
  {
   "cell_type": "markdown",
   "metadata": {},
   "source": [
    "Die Daten liegen als .csv Datei vor, die erste Spalte enthält die Noten in Programmierung, die zweite die in Mathematik.\n"
   ]
  },
  {
   "cell_type": "code",
   "execution_count": 17,
   "metadata": {
    "collapsed": false
   },
   "outputs": [
    {
     "data": {
      "text/html": [
       "<div style=\"max-height:1000px;max-width:1500px;overflow:auto;\">\n",
       "<table border=\"1\" class=\"dataframe\">\n",
       "  <thead>\n",
       "    <tr style=\"text-align: right;\">\n",
       "      <th></th>\n",
       "      <th>Note Prog. I</th>\n",
       "      <th>Note Mathe</th>\n",
       "    </tr>\n",
       "  </thead>\n",
       "  <tbody>\n",
       "    <tr>\n",
       "      <th>0</th>\n",
       "      <td>1.0</td>\n",
       "      <td>2.8</td>\n",
       "    </tr>\n",
       "    <tr>\n",
       "      <th>1</th>\n",
       "      <td>1.0</td>\n",
       "      <td>2.9</td>\n",
       "    </tr>\n",
       "    <tr>\n",
       "      <th>2</th>\n",
       "      <td>1.1</td>\n",
       "      <td>4.7</td>\n",
       "    </tr>\n",
       "    <tr>\n",
       "      <th>3</th>\n",
       "      <td>1.2</td>\n",
       "      <td>1.9</td>\n",
       "    </tr>\n",
       "    <tr>\n",
       "      <th>4</th>\n",
       "      <td>1.2</td>\n",
       "      <td>2.0</td>\n",
       "    </tr>\n",
       "  </tbody>\n",
       "</table>\n",
       "</div>"
      ],
      "text/plain": [
       "   Note Prog. I  Note Mathe\n",
       "0           1.0         2.8\n",
       "1           1.0         2.9\n",
       "2           1.1         4.7\n",
       "3           1.2         1.9\n",
       "4           1.2         2.0"
      ]
     },
     "execution_count": 17,
     "metadata": {},
     "output_type": "execute_result"
    }
   ],
   "source": [
    "df = pd.read_csv(filepath, delimiter=';',  encoding='latin-1')\n",
    "df = df.apply(lambda x: x.str.replace(\",\",\".\")).astype(float)\n",
    "df.head()"
   ]
  },
  {
   "cell_type": "markdown",
   "metadata": {},
   "source": [
    "Hier werden die Daten eines Jahrgangs untersucht, es sind 35 Datensätze.\n"
   ]
  },
  {
   "cell_type": "code",
   "execution_count": 18,
   "metadata": {
    "collapsed": false
   },
   "outputs": [
    {
     "data": {
      "text/html": [
       "<div style=\"max-height:1000px;max-width:1500px;overflow:auto;\">\n",
       "<table border=\"1\" class=\"dataframe\">\n",
       "  <thead>\n",
       "    <tr style=\"text-align: right;\">\n",
       "      <th></th>\n",
       "      <th>Note Prog. I</th>\n",
       "      <th>Note Mathe</th>\n",
       "    </tr>\n",
       "  </thead>\n",
       "  <tbody>\n",
       "    <tr>\n",
       "      <th>count</th>\n",
       "      <td>35.000000</td>\n",
       "      <td>35.000000</td>\n",
       "    </tr>\n",
       "    <tr>\n",
       "      <th>mean</th>\n",
       "      <td>2.882857</td>\n",
       "      <td>3.525714</td>\n",
       "    </tr>\n",
       "    <tr>\n",
       "      <th>std</th>\n",
       "      <td>1.308903</td>\n",
       "      <td>1.122849</td>\n",
       "    </tr>\n",
       "    <tr>\n",
       "      <th>min</th>\n",
       "      <td>1.000000</td>\n",
       "      <td>1.000000</td>\n",
       "    </tr>\n",
       "    <tr>\n",
       "      <th>25%</th>\n",
       "      <td>1.400000</td>\n",
       "      <td>2.800000</td>\n",
       "    </tr>\n",
       "    <tr>\n",
       "      <th>50%</th>\n",
       "      <td>2.900000</td>\n",
       "      <td>4.000000</td>\n",
       "    </tr>\n",
       "    <tr>\n",
       "      <th>75%</th>\n",
       "      <td>4.000000</td>\n",
       "      <td>4.500000</td>\n",
       "    </tr>\n",
       "    <tr>\n",
       "      <th>max</th>\n",
       "      <td>4.600000</td>\n",
       "      <td>5.000000</td>\n",
       "    </tr>\n",
       "  </tbody>\n",
       "</table>\n",
       "</div>"
      ],
      "text/plain": [
       "       Note Prog. I  Note Mathe\n",
       "count     35.000000   35.000000\n",
       "mean       2.882857    3.525714\n",
       "std        1.308903    1.122849\n",
       "min        1.000000    1.000000\n",
       "25%        1.400000    2.800000\n",
       "50%        2.900000    4.000000\n",
       "75%        4.000000    4.500000\n",
       "max        4.600000    5.000000"
      ]
     },
     "execution_count": 18,
     "metadata": {},
     "output_type": "execute_result"
    }
   ],
   "source": [
    "df.describe()"
   ]
  },
  {
   "cell_type": "markdown",
   "metadata": {},
   "source": [
    "Um die Daten besser handhaben zu können, werden die x- und y- Werte getrennt.\n",
    "*map* wendet die als ersten Parameter übergebene Funktion auf jedes Element der als zweiter Parameter übergebenen Collection an."
   ]
  },
  {
   "cell_type": "code",
   "execution_count": 19,
   "metadata": {
    "collapsed": false
   },
   "outputs": [],
   "source": [
    "noten = (df.values, None)\n",
    "val, dummy = noten\n",
    "x = map(lambda x: x[0],val)\n",
    "y = map(lambda x: x[1],val)"
   ]
  },
  {
   "cell_type": "markdown",
   "metadata": {},
   "source": [
    "Zunächst eine Übersicht über die Daten.\n",
    "Grundsätzlich ist es sinnvoll, als ersten Schritt einer Analyse eine geeignete grafische Übersicht der Daten zu erzeugen."
   ]
  },
  {
   "cell_type": "code",
   "execution_count": 20,
   "metadata": {
    "collapsed": false
   },
   "outputs": [
    {
     "data": {
      "image/png": "[encoded data removed]",
      "text/plain": [
       "<matplotlib.figure.Figure at 0x10f1d4450>"
      ]
     },
     "metadata": {},
     "output_type": "display_data"
    }
   ],
   "source": [
    "data = plt.figure(1,figsize=(8,8))\n",
    "axes = plt.gca()\n",
    "axes.set_xlim([0.9,5.1])\n",
    "axes.set_ylim([0.9,5.1])\n",
    "plt.scatter(x,y,s=70,alpha=0.7)\n",
    "plt.title(\"Noten Mathe vs. Programmieren\")\n",
    "plt.show()"
   ]
  },
  {
   "cell_type": "markdown",
   "metadata": {},
   "source": [
    "Man kann natürlich auch hier eine lineare Regression durchführen und hier (bei zwei Parametern) eine Ausgleichsgrade berechnen.\n"
   ]
  },
  {
   "cell_type": "code",
   "execution_count": 21,
   "metadata": {
    "collapsed": false
   },
   "outputs": [
    {
     "data": {
      "image/png": "[encoded data removed]",
      "text/plain": [
       "<matplotlib.figure.Figure at 0x11322dfd0>"
      ]
     },
     "metadata": {},
     "output_type": "display_data"
    }
   ],
   "source": [
    "from sklearn.linear_model import LinearRegression\n",
    "import numpy as np \n",
    "lm = LinearRegression()\n",
    "xx = np.array(x).reshape(35,1)\n",
    "yy = np.array(y).reshape(35,1)\n",
    "lm.fit(xx,yy)\n",
    "\n",
    "# print intercept and coefficients\n",
    "#print lm.intercept_\n",
    "#print lm.coef_\n",
    "\n",
    "data = plt.figure(1,figsize=(8,8))\n",
    "axes = plt.gca()\n",
    "axes.set_xlim([0.9,5.1])\n",
    "axes.set_ylim([0.9,5.1])\n",
    "plt.scatter(x,y,s=70,alpha=0.7)\n",
    "plt.title(\"Lineare Regression Mathe vs. Programmieren\")\n",
    "plt.plot(x,lm.predict(xx),color='blue',\n",
    "         linewidth=3)\n",
    "plt.show()"
   ]
  },
  {
   "cell_type": "code",
   "execution_count": 22,
   "metadata": {
    "collapsed": true
   },
   "outputs": [],
   "source": [
    "import matplotlib.cm as cm\n",
    "\n",
    "from sklearn import cluster, datasets\n",
    "from sklearn.neighbors import kneighbors_graph\n",
    "from sklearn.preprocessing import StandardScaler\n"
   ]
  },
  {
   "cell_type": "markdown",
   "metadata": {},
   "source": [
    "K means bestimmt die Zentren von k Clustern so, dass die zugehörigen Punkte einen möglichst geringen Abstand vom jeweiligen Zentrum haben,das heisst, das Zentrum entspricht dem Mittelwert der zugehörigen Punkte (daher means)\n",
    "Ein Punkt wird dem Cluster zugeordnet, dessen Zentrum er am nächsten liegt.\n",
    "Eine Visualisierung des Ablaufs gibt's hier: http://www.naftaliharris.com/blog/visualizing-k-means-clustering/"
   ]
  },
  {
   "cell_type": "code",
   "execution_count": 23,
   "metadata": {
    "collapsed": false
   },
   "outputs": [
    {
     "data": {
      "image/png": "[encoded data removed]",
      "text/plain": [
       "<matplotlib.figure.Figure at 0x111686e50>"
      ]
     },
     "metadata": {},
     "output_type": "display_data"
    }
   ],
   "source": [
    "cluster_count = 4\n",
    "km = cluster.KMeans(cluster_count)\n",
    "pred=km.fit_predict(val,y)\n",
    "\n",
    "fig = plt.figure(1,figsize=(8,8))\n",
    "axes = plt.gca()\n",
    "axes.set_xlim([0.9,5.1])\n",
    "axes.set_ylim([0.9,5.1])\n",
    "for k in range(cluster_count):\n",
    "    my_members = km.labels_ == k\n",
    "    xp = np.array(x)[my_members]\n",
    "    yp = np.array(y)[my_members]\n",
    "    color = cm.spectral(float(k) / cluster_count, 1)\n",
    "    plt.plot(xp, yp, 'o', marker='.', c=color,markersize=20)\n",
    "    cluster_center = km.cluster_centers_[k]\n",
    "    plt.plot(cluster_center[0], cluster_center[1], 'o',\n",
    "             markerfacecolor=color, markeredgecolor='k', markersize=40)\n",
    "    plt.title(\"k-means mit 4 Clustern\")\n",
    "\n",
    "\n",
    "plt.show()"
   ]
  },
  {
   "cell_type": "code",
   "execution_count": null,
   "metadata": {
    "collapsed": true
   },
   "outputs": [],
   "source": []
  }
 ],
 "metadata": {
  "kernelspec": {
   "display_name": "Python 2",
   "language": "python",
   "name": "python2"
  },
  "language_info": {
   "codemirror_mode": {
    "name": "ipython",
    "version": 2
   },
   "file_extension": ".py",
   "mimetype": "text/x-python",
   "name": "python",
   "nbconvert_exporter": "python",
   "pygments_lexer": "ipython2",
   "version": "2.7.10"
  }
 },
 "nbformat": 4,
 "nbformat_minor": 0
}
